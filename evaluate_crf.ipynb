{
 "cells": [
  {
   "cell_type": "markdown",
   "metadata": {},
   "source": [
    "# Evaluation of the CRF Model"
   ]
  },
  {
   "cell_type": "code",
   "execution_count": 13,
   "metadata": {},
   "outputs": [],
   "source": [
    "# Imports\n",
    "import ast\n",
    "import pickle\n",
    "\n",
    "import spacy\n",
    "import pandas as pd\n",
    "import eli5\n",
    "from sklearn_crfsuite import metrics\n",
    "from tqdm import tqdm\n",
    "\n",
    "from model.crf_utils import text2features, Custom_CRF\n",
    "from model.evaluation_utils import visualize_transitions, print_annotated_text, crf_roc_curve, crf_log_loss, print_annotated_text_latex\n",
    "from model.evaluation.majority_baseline import majorityBaseline\n",
    "from model.evaluation.majority_baseline_proba import majorityProbaBaseline\n",
    "from model.evaluation.number_baseline import numberBaseline\n",
    "from model.evaluation.ne_baseline import neBaseline"
   ]
  },
  {
   "cell_type": "code",
   "execution_count": 14,
   "metadata": {},
   "outputs": [],
   "source": [
    "# Parameter\n",
    "POS_FEATURES = True\n",
    "ENT_TYPE_FEATURES = True\n",
    "LEMMA_FEATURES = True\n",
    "IS_FEATURES = True\n",
    "POSITION_FEATURES = True\n",
    "BIAS = True\n",
    "BEGIN = -1\n",
    "END = 1"
   ]
  },
  {
   "cell_type": "code",
   "execution_count": 15,
   "metadata": {},
   "outputs": [],
   "source": [
    "#Load the CRF Model\n",
    "filename = \"model/trainedModels/crf_fully_trained.obj\"\n",
    "with open(filename, 'rb') as f:\n",
    "    model = pickle.load(f)\n",
    "    \n",
    "#Load Baseline\n",
    "#model = numberBaseline()"
   ]
  },
  {
   "cell_type": "code",
   "execution_count": 16,
   "metadata": {},
   "outputs": [],
   "source": [
    "# Load the Test data\n",
    "TEST_FILENAME = \"data/preprocessedData/dev_IO_with_plausible_answers.csv\"\n",
    "df_askable_paragraph_test = pd.read_csv(TEST_FILENAME)\n",
    "df_askable_paragraph_test[\"askable_tokens\"] = [ast.literal_eval(t) for t in df_askable_paragraph_test[\"askable_tokens\"]]\n",
    "\n",
    "TRAIN_FILENAME = \"data/preprocessedData/train_IO_with_plausible_answers.csv\"\n",
    "df_askable_paragraph_train = pd.read_csv(TRAIN_FILENAME)\n",
    "df_askable_paragraph_train[\"askable_tokens\"] = [ast.literal_eval(t) for t in df_askable_paragraph_train[\"askable_tokens\"]]\n",
    "df_askable_paragraph_train_sample = df_askable_paragraph_train.sample(n=1000, random_state=1)"
   ]
  },
  {
   "cell_type": "code",
   "execution_count": 17,
   "metadata": {},
   "outputs": [],
   "source": [
    "nlp = spacy.load('en')"
   ]
  },
  {
   "cell_type": "code",
   "execution_count": 18,
   "metadata": {},
   "outputs": [
    {
     "name": "stderr",
     "output_type": "stream",
     "text": [
      "100%|██████████| 1204/1204 [01:29<00:00, 17.13it/s]\n"
     ]
    }
   ],
   "source": [
    "# calculate the features for the Test data\n",
    "X_test = [text2features(nlp(s), pos_features=POS_FEATURES, ent_type_features=ENT_TYPE_FEATURES, lemma_features=LEMMA_FEATURES, is_features=IS_FEATURES, position_features=POSITION_FEATURES, bias=BIAS, begin=BEGIN, end=END) for s in tqdm(df_askable_paragraph_test[\"paragraph_context\"])]\n",
    "y_test = list(df_askable_paragraph_test[\"askable_tokens\"])"
   ]
  },
  {
   "cell_type": "code",
   "execution_count": null,
   "metadata": {},
   "outputs": [],
   "source": [
    "# calculate the features for the Train data\n",
    "X_train_sample = [text2features(nlp(s), pos_features=POS_FEATURES, ent_type_features=ENT_TYPE_FEATURES, lemma_features=LEMMA_FEATURES, is_features=IS_FEATURES, position_features=POSITION_FEATURES, bias=BIAS, begin=BEGIN, end=END) for s in tqdm(df_askable_paragraph_train_sample[\"paragraph_context\"])]\n",
    "y_train_sample = list(df_askable_paragraph_train_sample[\"askable_tokens\"])\n",
    "model.fit(X_train_sample, y_train_sample)"
   ]
  },
  {
   "cell_type": "code",
   "execution_count": 19,
   "metadata": {},
   "outputs": [],
   "source": [
    "# Predict y for Test data\n",
    "y_pred_test = model.predict(X_test)\n",
    "y_pred_test_marginals = model.predict_proba(X_test)"
   ]
  },
  {
   "cell_type": "code",
   "execution_count": 20,
   "metadata": {},
   "outputs": [
    {
     "name": "stdout",
     "output_type": "stream",
     "text": [
      "             precision    recall  f1-score   support\n",
      "\n",
      "          I    0.53417   0.00843   0.01661     35214\n",
      "          O    0.80189   0.99817   0.88933    141594\n",
      "\n",
      "avg / total    0.74857   0.80105   0.71551    176808\n",
      "\n"
     ]
    }
   ],
   "source": [
    "# Evaluate Standard Evaluation Metricies\n",
    "print(metrics.flat_classification_report(\n",
    "    y_test, y_pred_test, digits=5\n",
    "))"
   ]
  },
  {
   "cell_type": "code",
   "execution_count": null,
   "metadata": {},
   "outputs": [],
   "source": []
  },
  {
   "cell_type": "code",
   "execution_count": 21,
   "metadata": {},
   "outputs": [
    {
     "data": {
      "text/html": [
       "<span title=\"0.30136360132058165\" style=\"background-color:rgba(255, 0, 0, 0.30136360132058165);\"> A</span><span title=\"0.4287332533218812\" style=\"background-color:rgba(255, 0, 0, 0.4287332533218812);text-decoration: underline\"> Japan</span><span title=\"0.37225705078318705\" style=\"background-color:rgba(255, 0, 0, 0.37225705078318705);\"> -</span><span title=\"0.4304903841749043\" style=\"background-color:rgba(255, 0, 0, 0.4304903841749043);\"> exclusive</span><span title=\"0.47832975716781045\" style=\"background-color:rgba(255, 0, 0, 0.47832975716781045);\"> manga</span><span title=\"0.472453954780822\" style=\"background-color:rgba(255, 0, 0, 0.472453954780822);\"> series</span><span title=\"0.41954960758310356\" style=\"background-color:rgba(255, 0, 0, 0.41954960758310356);\"> based</span><span title=\"0.40203677705131674\" style=\"background-color:rgba(255, 0, 0, 0.40203677705131674);\"> on</span><span title=\"0.5158666435668734\" style=\"background-color:rgba(255, 0, 0, 0.5158666435668734);\"> Twilight</span><span title=\"0.48622771615402177\" style=\"background-color:rgba(255, 0, 0, 0.48622771615402177);\"> Princess</span><span title=\"0.11929489457227307\" style=\"background-color:rgba(255, 0, 0, 0.11929489457227307);\"> ,</span><span title=\"0.09493925409506654\" style=\"background-color:rgba(255, 0, 0, 0.09493925409506654);\"> penned</span><span title=\"0.10384776000122334\" style=\"background-color:rgba(255, 0, 0, 0.10384776000122334);\"> and</span><span title=\"0.09584353312197363\" style=\"background-color:rgba(255, 0, 0, 0.09584353312197363);\"> illustrated</span><span title=\"0.08553819685966765\" style=\"background-color:rgba(255, 0, 0, 0.08553819685966765);\"> by</span><span title=\"0.5863597848423715\" style=\"background-color:rgba(255, 0, 0, 0.5863597848423715);text-decoration: underline\"> Akira</span><span title=\"0.5498790378537625\" style=\"background-color:rgba(255, 0, 0, 0.5498790378537625);text-decoration: underline\"> Himekawa</span><span title=\"0.05767674162360322\" style=\"background-color:rgba(255, 0, 0, 0.05767674162360322);\"> ,</span><span title=\"0.025046703800458245\" style=\"background-color:rgba(255, 0, 0, 0.025046703800458245);\"> was</span><span title=\"0.06039228251867717\" style=\"background-color:rgba(255, 0, 0, 0.06039228251867717);\"> first</span><span title=\"0.0554307020962991\" style=\"background-color:rgba(255, 0, 0, 0.0554307020962991);\"> released</span><span title=\"0.08438637467178214\" style=\"background-color:rgba(255, 0, 0, 0.08438637467178214);\"> on</span><span title=\"0.4407452680391892\" style=\"background-color:rgba(255, 0, 0, 0.4407452680391892);text-decoration: underline\"> February</span><span title=\"0.49300066018487004\" style=\"background-color:rgba(255, 0, 0, 0.49300066018487004);text-decoration: underline\"> 8</span><span title=\"0.23072689839703264\" style=\"background-color:rgba(255, 0, 0, 0.23072689839703264);text-decoration: underline\"> ,</span><span title=\"0.3894694181148696\" style=\"background-color:rgba(255, 0, 0, 0.3894694181148696);text-decoration: underline\"> 2016</span><span title=\"0.03837443026128533\" style=\"background-color:rgba(255, 0, 0, 0.03837443026128533);\"> .</span><span title=\"0.11980243835155485\" style=\"background-color:rgba(255, 0, 0, 0.11980243835155485);\"> The</span><span title=\"0.1447013140642051\" style=\"background-color:rgba(255, 0, 0, 0.1447013140642051);\"> series</span><span title=\"0.05941808898296449\" style=\"background-color:rgba(255, 0, 0, 0.05941808898296449);\"> is</span><span title=\"0.1269916285660187\" style=\"background-color:rgba(255, 0, 0, 0.1269916285660187);\"> available</span><span title=\"0.13275365278809684\" style=\"background-color:rgba(255, 0, 0, 0.13275365278809684);\"> solely</span><span title=\"0.12503621254596017\" style=\"background-color:rgba(255, 0, 0, 0.12503621254596017);\"> via</span><span title=\"0.17925623854980635\" style=\"background-color:rgba(255, 0, 0, 0.17925623854980635);\"> publisher</span><span title=\"0.22809776104590615\" style=\"background-color:rgba(255, 0, 0, 0.22809776104590615);text-decoration: underline\"> Shogakukan</span><span title=\"0.157738319896929\" style=\"background-color:rgba(255, 0, 0, 0.157738319896929);\"> 's</span><span title=\"0.24923652493347762\" style=\"background-color:rgba(255, 0, 0, 0.24923652493347762);\"> MangaOne</span><span title=\"0.25566419134688323\" style=\"background-color:rgba(255, 0, 0, 0.25566419134688323);text-decoration: underline\"> mobile</span><span title=\"0.2544933467036701\" style=\"background-color:rgba(255, 0, 0, 0.2544933467036701);\"> application</span><span title=\"0.03406313102283577\" style=\"background-color:rgba(255, 0, 0, 0.03406313102283577);\"> .</span><span title=\"0.05258352372243321\" style=\"background-color:rgba(255, 0, 0, 0.05258352372243321);\"> While</span><span title=\"0.09967481821590486\" style=\"background-color:rgba(255, 0, 0, 0.09967481821590486);\"> the</span><span title=\"0.15993065732320497\" style=\"background-color:rgba(255, 0, 0, 0.15993065732320497);\"> manga</span><span title=\"0.15706502205784525\" style=\"background-color:rgba(255, 0, 0, 0.15706502205784525);\"> adaptation</span><span title=\"0.09389680058511282\" style=\"background-color:rgba(255, 0, 0, 0.09389680058511282);\"> began</span><span title=\"0.19573000942007288\" style=\"background-color:rgba(255, 0, 0, 0.19573000942007288);\"> almost</span><span title=\"0.3039320402303454\" style=\"background-color:rgba(255, 0, 0, 0.3039320402303454);\"> ten</span><span title=\"0.2114955097730909\" style=\"background-color:rgba(255, 0, 0, 0.2114955097730909);\"> years</span><span title=\"0.14147120687117057\" style=\"background-color:rgba(255, 0, 0, 0.14147120687117057);\"> after</span><span title=\"0.16896351889719227\" style=\"background-color:rgba(255, 0, 0, 0.16896351889719227);\"> the</span><span title=\"0.20720678795408523\" style=\"background-color:rgba(255, 0, 0, 0.20720678795408523);\"> initial</span><span title=\"0.19591100756794236\" style=\"background-color:rgba(255, 0, 0, 0.19591100756794236);\"> release</span><span title=\"0.12634233049048418\" style=\"background-color:rgba(255, 0, 0, 0.12634233049048418);\"> of</span><span title=\"0.15045749083338703\" style=\"background-color:rgba(255, 0, 0, 0.15045749083338703);\"> the</span><span title=\"0.14551844790418805\" style=\"background-color:rgba(255, 0, 0, 0.14551844790418805);\"> game</span><span title=\"0.07082340050786606\" style=\"background-color:rgba(255, 0, 0, 0.07082340050786606);\"> on</span><span title=\"0.07548683929310109\" style=\"background-color:rgba(255, 0, 0, 0.07548683929310109);\"> which</span><span title=\"0.09082454642596528\" style=\"background-color:rgba(255, 0, 0, 0.09082454642596528);\"> it</span><span title=\"0.06892365820585933\" style=\"background-color:rgba(255, 0, 0, 0.06892365820585933);\"> is</span><span title=\"0.09521299542235907\" style=\"background-color:rgba(255, 0, 0, 0.09521299542235907);\"> based</span><span title=\"0.05895282516492775\" style=\"background-color:rgba(255, 0, 0, 0.05895282516492775);\"> ,</span><span title=\"0.058728286701792747\" style=\"background-color:rgba(255, 0, 0, 0.058728286701792747);\"> it</span><span title=\"0.03154515268098202\" style=\"background-color:rgba(255, 0, 0, 0.03154515268098202);\"> launched</span><span title=\"0.12355221144115858\" style=\"background-color:rgba(255, 0, 0, 0.12355221144115858);\"> only</span><span title=\"0.18037774562679468\" style=\"background-color:rgba(255, 0, 0, 0.18037774562679468);\"> a</span><span title=\"0.2019501624047132\" style=\"background-color:rgba(255, 0, 0, 0.2019501624047132);\"> month</span><span title=\"0.1643054592774626\" style=\"background-color:rgba(255, 0, 0, 0.1643054592774626);\"> before</span><span title=\"0.22894734987700652\" style=\"background-color:rgba(255, 0, 0, 0.22894734987700652);\"> the</span><span title=\"0.2598979872663042\" style=\"background-color:rgba(255, 0, 0, 0.2598979872663042);\"> release</span><span title=\"0.22580083259859557\" style=\"background-color:rgba(255, 0, 0, 0.22580083259859557);\"> of</span><span title=\"0.3076711407623102\" style=\"background-color:rgba(255, 0, 0, 0.3076711407623102);\"> the</span><span title=\"0.39846244950988163\" style=\"background-color:rgba(255, 0, 0, 0.39846244950988163);\"> high</span><span title=\"0.37533651600893037\" style=\"background-color:rgba(255, 0, 0, 0.37533651600893037);\"> -</span><span title=\"0.4030479580102962\" style=\"background-color:rgba(255, 0, 0, 0.4030479580102962);\"> definition</span><span title=\"0.37097982014762687\" style=\"background-color:rgba(255, 0, 0, 0.37097982014762687);\"> remake</span><span title=\"0.05635058253329478\" style=\"background-color:rgba(255, 0, 0, 0.05635058253329478);\"> .</span>"
      ],
      "text/plain": [
       "<IPython.core.display.HTML object>"
      ]
     },
     "metadata": {},
     "output_type": "display_data"
    }
   ],
   "source": [
    "# Print one example output\n",
    "paragraph = nlp(\"A Japan-exclusive manga series based on Twilight Princess, penned and illustrated by Akira Himekawa, was first released on February 8, 2016. The series is available solely via publisher Shogakukan's MangaOne mobile application. While the manga adaptation began almost ten years after the initial release of the game on which it is based, it launched only a month before the release of the high-definition remake.\")\n",
    "y_true = ['O', 'I', 'O', 'O', 'O', 'O', 'O', 'O', 'O', 'O', 'O', 'O', 'O', 'O', 'O', 'I', 'I', 'O', 'O', 'O', 'O', 'O', 'I', 'I', 'I', 'I', 'O', 'O', 'O', 'O', 'O', 'O', 'O', 'O', 'I', 'O', 'O', 'I', 'O', 'O', 'O', 'O', 'O', 'O', 'O', 'O', 'O', 'O', 'O', 'O', 'O', 'O', 'O', 'O', 'O', 'O', 'O', 'O', 'O', 'O', 'O', 'O', 'O', 'O', 'O', 'O', 'O', 'O', 'O', 'O', 'O', 'O', 'O', 'O', 'O', 'O']\n",
    "\n",
    "tokens =[token.text for token in paragraph]\n",
    "y_pred = model.predict_marginals_single(text2features(paragraph, pos_features=POS_FEATURES, ent_type_features=ENT_TYPE_FEATURES, lemma_features=LEMMA_FEATURES, is_features=IS_FEATURES, position_features=POSITION_FEATURES, bias=BIAS, begin=BEGIN, end=END))\n",
    "print_annotated_text(tokens, y_pred, y_trues=y_true)"
   ]
  },
  {
   "cell_type": "code",
   "execution_count": 23,
   "metadata": {},
   "outputs": [
    {
     "data": {
      "text/html": [
       "<span title=\"0.14814160936974172\" style=\"background-color:rgba(255, 0, 0, 0.14814160936974172);\"> The</span><span title=\"0.17523409071383564\" style=\"background-color:rgba(255, 0, 0, 0.17523409071383564);\"> Norman</span><span title=\"0.14407528408777617\" style=\"background-color:rgba(255, 0, 0, 0.14407528408777617);\"> dynasty</span><span title=\"0.03397303191134372\" style=\"background-color:rgba(255, 0, 0, 0.03397303191134372);\"> had</span><span title=\"0.06605219991326863\" style=\"background-color:rgba(255, 0, 0, 0.06605219991326863);\"> a</span><span title=\"0.09857275020427138\" style=\"background-color:rgba(255, 0, 0, 0.09857275020427138);\"> major</span><span title=\"0.1252658970469206\" style=\"background-color:rgba(255, 0, 0, 0.1252658970469206);text-decoration: underline\"> political</span><span title=\"0.09551557682847685\" style=\"background-color:rgba(255, 0, 0, 0.09551557682847685);text-decoration: underline\"> ,</span><span title=\"0.12630747578037205\" style=\"background-color:rgba(255, 0, 0, 0.12630747578037205);text-decoration: underline\"> cultural</span><span title=\"0.12418305292614741\" style=\"background-color:rgba(255, 0, 0, 0.12418305292614741);text-decoration: underline\"> and</span><span title=\"0.1429026349320416\" style=\"background-color:rgba(255, 0, 0, 0.1429026349320416);text-decoration: underline\"> military</span><span title=\"0.12720944417731245\" style=\"background-color:rgba(255, 0, 0, 0.12720944417731245);\"> impact</span><span title=\"0.08674113169769188\" style=\"background-color:rgba(255, 0, 0, 0.08674113169769188);\"> on</span><span title=\"0.13610623790325058\" style=\"background-color:rgba(255, 0, 0, 0.13610623790325058);\"> medieval</span><span title=\"0.19815684002974718\" style=\"background-color:rgba(255, 0, 0, 0.19815684002974718);\"> Europe</span><span title=\"0.08861114223690916\" style=\"background-color:rgba(255, 0, 0, 0.08861114223690916);\"> and</span><span title=\"0.08115597338058819\" style=\"background-color:rgba(255, 0, 0, 0.08115597338058819);\"> even</span><span title=\"0.15078392685555927\" style=\"background-color:rgba(255, 0, 0, 0.15078392685555927);\"> the</span><span title=\"0.2542310751527646\" style=\"background-color:rgba(255, 0, 0, 0.2542310751527646);\"> Near</span><span title=\"0.2474204458077867\" style=\"background-color:rgba(255, 0, 0, 0.2474204458077867);\"> East</span><span title=\"0.020943674874350473\" style=\"background-color:rgba(255, 0, 0, 0.020943674874350473);\"> .</span><span title=\"0.059039191184270534\" style=\"background-color:rgba(255, 0, 0, 0.059039191184270534);\"> The</span><span title=\"0.1197951316357414\" style=\"background-color:rgba(255, 0, 0, 0.1197951316357414);text-decoration: underline\"> Normans</span><span title=\"0.02943920609683818\" style=\"background-color:rgba(255, 0, 0, 0.02943920609683818);\"> were</span><span title=\"0.03400292458611266\" style=\"background-color:rgba(255, 0, 0, 0.03400292458611266);\"> famed</span><span title=\"0.038496784038431896\" style=\"background-color:rgba(255, 0, 0, 0.038496784038431896);\"> for</span><span title=\"0.07076597556396068\" style=\"background-color:rgba(255, 0, 0, 0.07076597556396068);\"> their</span><span title=\"0.11578909115864777\" style=\"background-color:rgba(255, 0, 0, 0.11578909115864777);\"> martial</span><span title=\"0.11657117304254543\" style=\"background-color:rgba(255, 0, 0, 0.11657117304254543);\"> spirit</span><span title=\"0.06707365381918273\" style=\"background-color:rgba(255, 0, 0, 0.06707365381918273);\"> and</span><span title=\"0.06103522429525321\" style=\"background-color:rgba(255, 0, 0, 0.06103522429525321);\"> eventually</span><span title=\"0.0406427336416963\" style=\"background-color:rgba(255, 0, 0, 0.0406427336416963);\"> for</span><span title=\"0.050952100708562216\" style=\"background-color:rgba(255, 0, 0, 0.050952100708562216);\"> their</span><span title=\"0.15850936399572893\" style=\"background-color:rgba(255, 0, 0, 0.15850936399572893);\"> Christian</span><span title=\"0.1436019635622489\" style=\"background-color:rgba(255, 0, 0, 0.1436019635622489);\"> piety</span><span title=\"0.04329383725788292\" style=\"background-color:rgba(255, 0, 0, 0.04329383725788292);\"> ,</span><span title=\"0.05059732913332915\" style=\"background-color:rgba(255, 0, 0, 0.05059732913332915);\"> becoming</span><span title=\"0.06967534907805274\" style=\"background-color:rgba(255, 0, 0, 0.06967534907805274);\"> exponents</span><span title=\"0.039319427278825515\" style=\"background-color:rgba(255, 0, 0, 0.039319427278825515);\"> of</span><span title=\"0.05520273587113445\" style=\"background-color:rgba(255, 0, 0, 0.05520273587113445);\"> the</span><span title=\"0.1647622044666542\" style=\"background-color:rgba(255, 0, 0, 0.1647622044666542);text-decoration: underline\"> Catholic</span><span title=\"0.10499042481252446\" style=\"background-color:rgba(255, 0, 0, 0.10499042481252446);text-decoration: underline\"> orthodoxy</span><span title=\"0.03371472795409846\" style=\"background-color:rgba(255, 0, 0, 0.03371472795409846);\"> into</span><span title=\"0.029835234722277688\" style=\"background-color:rgba(255, 0, 0, 0.029835234722277688);\"> which</span><span title=\"0.03179915015365284\" style=\"background-color:rgba(255, 0, 0, 0.03179915015365284);\"> they</span><span title=\"0.02324442750995032\" style=\"background-color:rgba(255, 0, 0, 0.02324442750995032);\"> assimilated</span><span title=\"0.007330599752025829\" style=\"background-color:rgba(255, 0, 0, 0.007330599752025829);\"> .</span><span title=\"0.03247808363650217\" style=\"background-color:rgba(255, 0, 0, 0.03247808363650217);\"> They</span><span title=\"0.015584981214190576\" style=\"background-color:rgba(255, 0, 0, 0.015584981214190576);\"> adopted</span><span title=\"0.049888538317242014\" style=\"background-color:rgba(255, 0, 0, 0.049888538317242014);\"> the</span><span title=\"0.31176303645038644\" style=\"background-color:rgba(255, 0, 0, 0.31176303645038644);\"> Gallo</span><span title=\"0.2292674697609219\" style=\"background-color:rgba(255, 0, 0, 0.2292674697609219);\"> -</span><span title=\"0.25882142684630466\" style=\"background-color:rgba(255, 0, 0, 0.25882142684630466);\"> Romance</span><span title=\"0.15659928598686\" style=\"background-color:rgba(255, 0, 0, 0.15659928598686);\"> language</span><span title=\"0.07681729525561684\" style=\"background-color:rgba(255, 0, 0, 0.07681729525561684);\"> of</span><span title=\"0.08049344339488242\" style=\"background-color:rgba(255, 0, 0, 0.08049344339488242);\"> the</span><span title=\"0.14569389790783627\" style=\"background-color:rgba(255, 0, 0, 0.14569389790783627);\"> Frankish</span><span title=\"0.10876202145492912\" style=\"background-color:rgba(255, 0, 0, 0.10876202145492912);\"> land</span><span title=\"0.0615734111933928\" style=\"background-color:rgba(255, 0, 0, 0.0615734111933928);\"> they</span><span title=\"0.039170718444305135\" style=\"background-color:rgba(255, 0, 0, 0.039170718444305135);\"> settled</span><span title=\"0.021775414894234613\" style=\"background-color:rgba(255, 0, 0, 0.021775414894234613);\"> ,</span><span title=\"0.026640858309228063\" style=\"background-color:rgba(255, 0, 0, 0.026640858309228063);\"> their</span><span title=\"0.031721130428049166\" style=\"background-color:rgba(255, 0, 0, 0.031721130428049166);\"> dialect</span><span title=\"0.019663288717892823\" style=\"background-color:rgba(255, 0, 0, 0.019663288717892823);\"> becoming</span><span title=\"0.03253491270973295\" style=\"background-color:rgba(255, 0, 0, 0.03253491270973295);\"> known</span><span title=\"0.043150934433795675\" style=\"background-color:rgba(255, 0, 0, 0.043150934433795675);\"> as</span><span title=\"0.3456200389935927\" style=\"background-color:rgba(255, 0, 0, 0.3456200389935927);\"> Norman</span><span title=\"0.1654459145616946\" style=\"background-color:rgba(255, 0, 0, 0.1654459145616946);\"> ,</span><span title=\"0.35909380445923\" style=\"background-color:rgba(255, 0, 0, 0.35909380445923);\"> Normaund</span><span title=\"0.31979619080153365\" style=\"background-color:rgba(255, 0, 0, 0.31979619080153365);\"> or</span><span title=\"0.3823281369720426\" style=\"background-color:rgba(255, 0, 0, 0.3823281369720426);\"> Norman</span><span title=\"0.3532050726669716\" style=\"background-color:rgba(255, 0, 0, 0.3532050726669716);\"> French</span><span title=\"0.11295377801343537\" style=\"background-color:rgba(255, 0, 0, 0.11295377801343537);\"> ,</span><span title=\"0.11119223744143153\" style=\"background-color:rgba(255, 0, 0, 0.11119223744143153);\"> an</span><span title=\"0.14889818792703072\" style=\"background-color:rgba(255, 0, 0, 0.14889818792703072);\"> important</span><span title=\"0.18699715156157187\" style=\"background-color:rgba(255, 0, 0, 0.18699715156157187);\"> literary</span><span title=\"0.19086545372523786\" style=\"background-color:rgba(255, 0, 0, 0.19086545372523786);\"> language</span><span title=\"0.05341603473149842\" style=\"background-color:rgba(255, 0, 0, 0.05341603473149842);\"> .</span><span title=\"0.3061613694268957\" style=\"background-color:rgba(255, 0, 0, 0.3061613694268957);\"> The</span><span title=\"0.36861564127718704\" style=\"background-color:rgba(255, 0, 0, 0.36861564127718704);\"> Duchy</span><span title=\"0.2716989184425123\" style=\"background-color:rgba(255, 0, 0, 0.2716989184425123);\"> of</span><span title=\"0.3185409095180764\" style=\"background-color:rgba(255, 0, 0, 0.3185409095180764);\"> Normandy</span><span title=\"0.023882210091432394\" style=\"background-color:rgba(255, 0, 0, 0.023882210091432394);\"> ,</span><span title=\"0.01577443660564778\" style=\"background-color:rgba(255, 0, 0, 0.01577443660564778);\"> which</span><span title=\"0.021154157422591652\" style=\"background-color:rgba(255, 0, 0, 0.021154157422591652);\"> they</span><span title=\"0.01262473249930695\" style=\"background-color:rgba(255, 0, 0, 0.01262473249930695);\"> formed</span><span title=\"0.019521622719485706\" style=\"background-color:rgba(255, 0, 0, 0.019521622719485706);\"> by</span><span title=\"0.053568337583437445\" style=\"background-color:rgba(255, 0, 0, 0.053568337583437445);\"> treaty</span><span title=\"0.019718272056294183\" style=\"background-color:rgba(255, 0, 0, 0.019718272056294183);\"> with</span><span title=\"0.03920430041295986\" style=\"background-color:rgba(255, 0, 0, 0.03920430041295986);\"> the</span><span title=\"0.13748576064471035\" style=\"background-color:rgba(255, 0, 0, 0.13748576064471035);\"> French</span><span title=\"0.12047535628391567\" style=\"background-color:rgba(255, 0, 0, 0.12047535628391567);\"> crown</span><span title=\"0.026362421490528042\" style=\"background-color:rgba(255, 0, 0, 0.026362421490528042);\"> ,</span><span title=\"0.01221114279663189\" style=\"background-color:rgba(255, 0, 0, 0.01221114279663189);\"> was</span><span title=\"0.060323340959378774\" style=\"background-color:rgba(255, 0, 0, 0.060323340959378774);\"> a</span><span title=\"0.11768932986462102\" style=\"background-color:rgba(255, 0, 0, 0.11768932986462102);\"> great</span><span title=\"0.1306530675981607\" style=\"background-color:rgba(255, 0, 0, 0.1306530675981607);\"> fief</span><span title=\"0.1081953878746479\" style=\"background-color:rgba(255, 0, 0, 0.1081953878746479);\"> of</span><span title=\"0.17464276963663203\" style=\"background-color:rgba(255, 0, 0, 0.17464276963663203);\"> medieval</span><span title=\"0.24955778284474261\" style=\"background-color:rgba(255, 0, 0, 0.24955778284474261);\"> France</span><span title=\"0.044307878763179286\" style=\"background-color:rgba(255, 0, 0, 0.044307878763179286);\"> ,</span><span title=\"0.04038977030830181\" style=\"background-color:rgba(255, 0, 0, 0.04038977030830181);\"> and</span><span title=\"0.03570628598724048\" style=\"background-color:rgba(255, 0, 0, 0.03570628598724048);\"> under</span><span title=\"0.239139309927547\" style=\"background-color:rgba(255, 0, 0, 0.239139309927547);text-decoration: underline\"> Richard</span><span title=\"0.19867357726706283\" style=\"background-color:rgba(255, 0, 0, 0.19867357726706283);text-decoration: underline\"> I</span><span title=\"0.13219187215632225\" style=\"background-color:rgba(255, 0, 0, 0.13219187215632225);\"> of</span><span title=\"0.23569930768683534\" style=\"background-color:rgba(255, 0, 0, 0.23569930768683534);\"> Normandy</span><span title=\"0.032054328101360614\" style=\"background-color:rgba(255, 0, 0, 0.032054328101360614);\"> was</span><span title=\"0.04121447745147981\" style=\"background-color:rgba(255, 0, 0, 0.04121447745147981);\"> forged</span><span title=\"0.033547203039411666\" style=\"background-color:rgba(255, 0, 0, 0.033547203039411666);\"> into</span><span title=\"0.05765380068686358\" style=\"background-color:rgba(255, 0, 0, 0.05765380068686358);\"> a</span><span title=\"0.09306891377106502\" style=\"background-color:rgba(255, 0, 0, 0.09306891377106502);\"> cohesive</span><span title=\"0.09431552890076461\" style=\"background-color:rgba(255, 0, 0, 0.09431552890076461);\"> and</span><span title=\"0.11181442884172216\" style=\"background-color:rgba(255, 0, 0, 0.11181442884172216);\"> formidable</span><span title=\"0.09961082854767489\" style=\"background-color:rgba(255, 0, 0, 0.09961082854767489);\"> principality</span><span title=\"0.059107950950875815\" style=\"background-color:rgba(255, 0, 0, 0.059107950950875815);\"> in</span><span title=\"0.11974856850904306\" style=\"background-color:rgba(255, 0, 0, 0.11974856850904306);\"> feudal</span><span title=\"0.12277201045501052\" style=\"background-color:rgba(255, 0, 0, 0.12277201045501052);\"> tenure</span><span title=\"0.007578948676050963\" style=\"background-color:rgba(255, 0, 0, 0.007578948676050963);\"> .</span><span title=\"0.02917772144673736\" style=\"background-color:rgba(255, 0, 0, 0.02917772144673736);\"> The</span><span title=\"0.07488752880788552\" style=\"background-color:rgba(255, 0, 0, 0.07488752880788552);\"> Normans</span><span title=\"0.013800349451539858\" style=\"background-color:rgba(255, 0, 0, 0.013800349451539858);\"> are</span><span title=\"0.010533248423606416\" style=\"background-color:rgba(255, 0, 0, 0.010533248423606416);\"> noted</span><span title=\"0.012293930771275094\" style=\"background-color:rgba(255, 0, 0, 0.012293930771275094);\"> both</span><span title=\"0.014715816729173926\" style=\"background-color:rgba(255, 0, 0, 0.014715816729173926);\"> for</span><span title=\"0.03747253116594701\" style=\"background-color:rgba(255, 0, 0, 0.03747253116594701);\"> their</span><span title=\"0.05061299073638326\" style=\"background-color:rgba(255, 0, 0, 0.05061299073638326);\"> culture</span><span title=\"0.006836956765297489\" style=\"background-color:rgba(255, 0, 0, 0.006836956765297489);\"> ,</span><span title=\"0.00876107350362337\" style=\"background-color:rgba(255, 0, 0, 0.00876107350362337);\"> such</span><span title=\"0.008160388708012622\" style=\"background-color:rgba(255, 0, 0, 0.008160388708012622);\"> as</span><span title=\"0.03734790141365376\" style=\"background-color:rgba(255, 0, 0, 0.03734790141365376);\"> their</span><span title=\"0.061292281881827566\" style=\"background-color:rgba(255, 0, 0, 0.061292281881827566);\"> unique</span><span title=\"0.1497547356561189\" style=\"background-color:rgba(255, 0, 0, 0.1497547356561189);\"> Romanesque</span><span title=\"0.13258821705397034\" style=\"background-color:rgba(255, 0, 0, 0.13258821705397034);\"> architecture</span><span title=\"0.09377648368585605\" style=\"background-color:rgba(255, 0, 0, 0.09377648368585605);\"> and</span><span title=\"0.12024018184859207\" style=\"background-color:rgba(255, 0, 0, 0.12024018184859207);\"> musical</span><span title=\"0.11418275887407948\" style=\"background-color:rgba(255, 0, 0, 0.11418275887407948);\"> traditions</span><span title=\"0.027970849243803393\" style=\"background-color:rgba(255, 0, 0, 0.027970849243803393);\"> ,</span><span title=\"0.022415644558347415\" style=\"background-color:rgba(255, 0, 0, 0.022415644558347415);\"> and</span><span title=\"0.014928548662315388\" style=\"background-color:rgba(255, 0, 0, 0.014928548662315388);\"> for</span><span title=\"0.023352998884764203\" style=\"background-color:rgba(255, 0, 0, 0.023352998884764203);\"> their</span><span title=\"0.04790547149299675\" style=\"background-color:rgba(255, 0, 0, 0.04790547149299675);\"> significant</span><span title=\"0.07469894747620291\" style=\"background-color:rgba(255, 0, 0, 0.07469894747620291);\"> military</span><span title=\"0.08243853564416287\" style=\"background-color:rgba(255, 0, 0, 0.08243853564416287);\"> accomplishments</span><span title=\"0.06475810046482819\" style=\"background-color:rgba(255, 0, 0, 0.06475810046482819);\"> and</span><span title=\"0.0771101007869625\" style=\"background-color:rgba(255, 0, 0, 0.0771101007869625);\"> innovations</span><span title=\"0.005117265322401196\" style=\"background-color:rgba(255, 0, 0, 0.005117265322401196);\"> .</span><span title=\"0.07755415467387912\" style=\"background-color:rgba(255, 0, 0, 0.07755415467387912);\"> Norman</span><span title=\"0.059231111455324455\" style=\"background-color:rgba(255, 0, 0, 0.059231111455324455);\"> adventurers</span><span title=\"0.01175576558290221\" style=\"background-color:rgba(255, 0, 0, 0.01175576558290221);\"> founded</span><span title=\"0.07772321716382509\" style=\"background-color:rgba(255, 0, 0, 0.07772321716382509);\"> the</span><span title=\"0.11938708500891178\" style=\"background-color:rgba(255, 0, 0, 0.11938708500891178);\"> Kingdom</span><span title=\"0.07288968269309244\" style=\"background-color:rgba(255, 0, 0, 0.07288968269309244);\"> of</span><span title=\"0.10554546746102984\" style=\"background-color:rgba(255, 0, 0, 0.10554546746102984);\"> Sicily</span><span title=\"0.028956168760499314\" style=\"background-color:rgba(255, 0, 0, 0.028956168760499314);\"> under</span><span title=\"0.1992771238101415\" style=\"background-color:rgba(255, 0, 0, 0.1992771238101415);\"> Roger</span><span title=\"0.16804164499190505\" style=\"background-color:rgba(255, 0, 0, 0.16804164499190505);\"> II</span><span title=\"0.04702945001778943\" style=\"background-color:rgba(255, 0, 0, 0.04702945001778943);\"> after</span><span title=\"0.06823588605215485\" style=\"background-color:rgba(255, 0, 0, 0.06823588605215485);\"> conquering</span><span title=\"0.09732974913842743\" style=\"background-color:rgba(255, 0, 0, 0.09732974913842743);\"> southern</span><span title=\"0.14562065305885122\" style=\"background-color:rgba(255, 0, 0, 0.14562065305885122);\"> Italy</span><span title=\"0.06100151443790547\" style=\"background-color:rgba(255, 0, 0, 0.06100151443790547);\"> on</span><span title=\"0.09164957518044393\" style=\"background-color:rgba(255, 0, 0, 0.09164957518044393);\"> the</span><span title=\"0.12799945749898434\" style=\"background-color:rgba(255, 0, 0, 0.12799945749898434);\"> Saracens</span><span title=\"0.07383469754098805\" style=\"background-color:rgba(255, 0, 0, 0.07383469754098805);\"> and</span><span title=\"0.13455614398587637\" style=\"background-color:rgba(255, 0, 0, 0.13455614398587637);\"> Byzantines</span><span title=\"0.026647983030344914\" style=\"background-color:rgba(255, 0, 0, 0.026647983030344914);\"> ,</span><span title=\"0.02541280126641157\" style=\"background-color:rgba(255, 0, 0, 0.02541280126641157);\"> and</span><span title=\"0.034516849560250605\" style=\"background-color:rgba(255, 0, 0, 0.034516849560250605);\"> an</span><span title=\"0.04285644119683099\" style=\"background-color:rgba(255, 0, 0, 0.04285644119683099);\"> expedition</span><span title=\"0.02892620453289513\" style=\"background-color:rgba(255, 0, 0, 0.02892620453289513);\"> on</span><span title=\"0.04521494009077798\" style=\"background-color:rgba(255, 0, 0, 0.04521494009077798);\"> behalf</span><span title=\"0.02467316903194175\" style=\"background-color:rgba(255, 0, 0, 0.02467316903194175);\"> of</span><span title=\"0.046436976370606994\" style=\"background-color:rgba(255, 0, 0, 0.046436976370606994);\"> their</span><span title=\"0.05745117444162001\" style=\"background-color:rgba(255, 0, 0, 0.05745117444162001);\"> duke</span><span title=\"0.00960942347891295\" style=\"background-color:rgba(255, 0, 0, 0.00960942347891295);\"> ,</span><span title=\"0.07043409303549429\" style=\"background-color:rgba(255, 0, 0, 0.07043409303549429);text-decoration: underline\"> William</span><span title=\"0.04881337150062961\" style=\"background-color:rgba(255, 0, 0, 0.04881337150062961);text-decoration: underline\"> the</span><span title=\"0.12745724294074465\" style=\"background-color:rgba(255, 0, 0, 0.12745724294074465);text-decoration: underline\"> Conqueror</span><span title=\"0.01669320825164089\" style=\"background-color:rgba(255, 0, 0, 0.01669320825164089);\"> ,</span><span title=\"0.007340898700663101\" style=\"background-color:rgba(255, 0, 0, 0.007340898700663101);\"> led</span><span title=\"0.007920660539279185\" style=\"background-color:rgba(255, 0, 0, 0.007920660539279185);\"> to</span><span title=\"0.0197449850209763\" style=\"background-color:rgba(255, 0, 0, 0.0197449850209763);\"> the</span><span title=\"0.12641150449610764\" style=\"background-color:rgba(255, 0, 0, 0.12641150449610764);\"> Norman</span><span title=\"0.07711782641755843\" style=\"background-color:rgba(255, 0, 0, 0.07711782641755843);\"> conquest</span><span title=\"0.03667842506560281\" style=\"background-color:rgba(255, 0, 0, 0.03667842506560281);\"> of</span><span title=\"0.10631350582212631\" style=\"background-color:rgba(255, 0, 0, 0.10631350582212631);\"> England</span><span title=\"0.025566970705919057\" style=\"background-color:rgba(255, 0, 0, 0.025566970705919057);\"> at</span><span title=\"0.0919241635521252\" style=\"background-color:rgba(255, 0, 0, 0.0919241635521252);\"> the</span><span title=\"0.1396823068323466\" style=\"background-color:rgba(255, 0, 0, 0.1396823068323466);\"> Battle</span><span title=\"0.08895618376326266\" style=\"background-color:rgba(255, 0, 0, 0.08895618376326266);\"> of</span><span title=\"0.13012817049220932\" style=\"background-color:rgba(255, 0, 0, 0.13012817049220932);\"> Hastings</span><span title=\"0.05356070427097489\" style=\"background-color:rgba(255, 0, 0, 0.05356070427097489);\"> in</span><span title=\"0.47158029255297573\" style=\"background-color:rgba(255, 0, 0, 0.47158029255297573);\"> 1066</span><span title=\"0.004466443177024086\" style=\"background-color:rgba(255, 0, 0, 0.004466443177024086);\"> .</span><span title=\"0.040595695668875637\" style=\"background-color:rgba(255, 0, 0, 0.040595695668875637);\"> Norman</span><span title=\"0.03782598145365456\" style=\"background-color:rgba(255, 0, 0, 0.03782598145365456);\"> cultural</span><span title=\"0.036457661065155834\" style=\"background-color:rgba(255, 0, 0, 0.036457661065155834);\"> and</span><span title=\"0.0444027975500107\" style=\"background-color:rgba(255, 0, 0, 0.0444027975500107);\"> military</span><span title=\"0.037042845463327\" style=\"background-color:rgba(255, 0, 0, 0.037042845463327);\"> influence</span><span title=\"0.00351804873106205\" style=\"background-color:rgba(255, 0, 0, 0.00351804873106205);\"> spread</span><span title=\"0.0031942427451373792\" style=\"background-color:rgba(255, 0, 0, 0.0031942427451373792);\"> from</span><span title=\"0.005524155096942117\" style=\"background-color:rgba(255, 0, 0, 0.005524155096942117);\"> these</span><span title=\"0.009126985917842972\" style=\"background-color:rgba(255, 0, 0, 0.009126985917842972);\"> new</span><span title=\"0.035114066496150925\" style=\"background-color:rgba(255, 0, 0, 0.035114066496150925);\"> European</span><span title=\"0.024764148652510865\" style=\"background-color:rgba(255, 0, 0, 0.024764148652510865);\"> centres</span><span title=\"0.006326759840193802\" style=\"background-color:rgba(255, 0, 0, 0.006326759840193802);\"> to</span><span title=\"0.015604700206548241\" style=\"background-color:rgba(255, 0, 0, 0.015604700206548241);\"> the</span><span title=\"0.09714981945858392\" style=\"background-color:rgba(255, 0, 0, 0.09714981945858392);\"> Crusader</span><span title=\"0.056082667960055656\" style=\"background-color:rgba(255, 0, 0, 0.056082667960055656);\"> states</span><span title=\"0.018137222276932215\" style=\"background-color:rgba(255, 0, 0, 0.018137222276932215);\"> of</span><span title=\"0.07186625612772696\" style=\"background-color:rgba(255, 0, 0, 0.07186625612772696);\"> the</span><span title=\"0.13380949424078575\" style=\"background-color:rgba(255, 0, 0, 0.13380949424078575);\"> Near</span><span title=\"0.127538570312062\" style=\"background-color:rgba(255, 0, 0, 0.127538570312062);\"> East</span><span title=\"0.012970947916097885\" style=\"background-color:rgba(255, 0, 0, 0.012970947916097885);\"> ,</span><span title=\"0.016230509005273636\" style=\"background-color:rgba(255, 0, 0, 0.016230509005273636);\"> where</span><span title=\"0.03191498751767968\" style=\"background-color:rgba(255, 0, 0, 0.03191498751767968);\"> their</span><span title=\"0.05205533926637026\" style=\"background-color:rgba(255, 0, 0, 0.05205533926637026);\"> prince</span><span title=\"0.11145906534930186\" style=\"background-color:rgba(255, 0, 0, 0.11145906534930186);\"> Bohemond</span><span title=\"0.08099528666206149\" style=\"background-color:rgba(255, 0, 0, 0.08099528666206149);\"> I</span><span title=\"0.020749331613869826\" style=\"background-color:rgba(255, 0, 0, 0.020749331613869826);\"> founded</span><span title=\"0.03995620670895579\" style=\"background-color:rgba(255, 0, 0, 0.03995620670895579);\"> the</span><span title=\"0.07097492998647593\" style=\"background-color:rgba(255, 0, 0, 0.07097492998647593);\"> Principality</span><span title=\"0.03751845007179079\" style=\"background-color:rgba(255, 0, 0, 0.03751845007179079);\"> of</span><span title=\"0.13160498359002232\" style=\"background-color:rgba(255, 0, 0, 0.13160498359002232);text-decoration: underline\"> Antioch</span><span title=\"0.03595445745022772\" style=\"background-color:rgba(255, 0, 0, 0.03595445745022772);\"> in</span><span title=\"0.06754676374636873\" style=\"background-color:rgba(255, 0, 0, 0.06754676374636873);\"> the</span><span title=\"0.10722296979444472\" style=\"background-color:rgba(255, 0, 0, 0.10722296979444472);\"> Levant</span><span title=\"0.015617391201634282\" style=\"background-color:rgba(255, 0, 0, 0.015617391201634282);\"> ,</span><span title=\"0.0159347232407359\" style=\"background-color:rgba(255, 0, 0, 0.0159347232407359);\"> to</span><span title=\"0.10236994994455177\" style=\"background-color:rgba(255, 0, 0, 0.10236994994455177);\"> Scotland</span><span title=\"0.04174340420464068\" style=\"background-color:rgba(255, 0, 0, 0.04174340420464068);\"> and</span><span title=\"0.09030075940239977\" style=\"background-color:rgba(255, 0, 0, 0.09030075940239977);\"> Wales</span><span title=\"0.037092980577836165\" style=\"background-color:rgba(255, 0, 0, 0.037092980577836165);\"> in</span><span title=\"0.23670634039720412\" style=\"background-color:rgba(255, 0, 0, 0.23670634039720412);\"> Great</span><span title=\"0.22400226396715991\" style=\"background-color:rgba(255, 0, 0, 0.22400226396715991);\"> Britain</span><span title=\"0.02714354044055222\" style=\"background-color:rgba(255, 0, 0, 0.02714354044055222);\"> ,</span><span title=\"0.026640960023280726\" style=\"background-color:rgba(255, 0, 0, 0.026640960023280726);\"> to</span><span title=\"0.13889766786027022\" style=\"background-color:rgba(255, 0, 0, 0.13889766786027022);\"> Ireland</span><span title=\"0.01356807428216206\" style=\"background-color:rgba(255, 0, 0, 0.01356807428216206);\"> ,</span><span title=\"0.011550824089947643\" style=\"background-color:rgba(255, 0, 0, 0.011550824089947643);\"> and</span><span title=\"0.008482875963567772\" style=\"background-color:rgba(255, 0, 0, 0.008482875963567772);\"> to</span><span title=\"0.0183245187301775\" style=\"background-color:rgba(255, 0, 0, 0.0183245187301775);\"> the</span><span title=\"0.02431991266171487\" style=\"background-color:rgba(255, 0, 0, 0.02431991266171487);\"> coasts</span><span title=\"0.008606016336069475\" style=\"background-color:rgba(255, 0, 0, 0.008606016336069475);\"> of</span><span title=\"0.023670831733596763\" style=\"background-color:rgba(255, 0, 0, 0.023670831733596763);\"> north</span><span title=\"0.05081204516686196\" style=\"background-color:rgba(255, 0, 0, 0.05081204516686196);\"> Africa</span><span title=\"0.013943894796265007\" style=\"background-color:rgba(255, 0, 0, 0.013943894796265007);\"> and</span><span title=\"0.04601435381917698\" style=\"background-color:rgba(255, 0, 0, 0.04601435381917698);\"> the</span><span title=\"0.11496429681704477\" style=\"background-color:rgba(255, 0, 0, 0.11496429681704477);\"> Canary</span><span title=\"0.11124924805906662\" style=\"background-color:rgba(255, 0, 0, 0.11124924805906662);\"> Islands</span><span title=\"0.008525919880609922\" style=\"background-color:rgba(255, 0, 0, 0.008525919880609922);\"> .</span>"
      ],
      "text/plain": [
       "<IPython.core.display.HTML object>"
      ]
     },
     "metadata": {},
     "output_type": "display_data"
    }
   ],
   "source": [
    "# Print 100 randomly sampled text\n",
    "from IPython.display import Latex\n",
    "for index, row in df_askable_paragraph_test.iterrows(): #.sample(n=100, random_state=1)\n",
    "    if nlp(row[\"paragraph_context\"])[:3].text == \"The Norman dynasty\":\n",
    "        paragraph = nlp(row[\"paragraph_context\"])\n",
    "        y_true = row[\"askable_tokens\"]\n",
    "        tokens =[token.text for token in paragraph]\n",
    "        y_pred = model.predict_marginals_single(text2features(paragraph, pos_features=POS_FEATURES, ent_type_features=ENT_TYPE_FEATURES, lemma_features=LEMMA_FEATURES, is_features=IS_FEATURES, position_features=POSITION_FEATURES, bias=BIAS, begin=BEGIN, end=END))\n",
    "\n",
    "        print_annotated_text(tokens, y_pred, y_trues=y_true)\n",
    "        Latex(print_annotated_text_latex(tokens, y_pred, y_trues=y_true))"
   ]
  },
  {
   "cell_type": "code",
   "execution_count": 11,
   "metadata": {},
   "outputs": [
    {
     "name": "stdout",
     "output_type": "stream",
     "text": [
      "Log Loss on the test data: 6.953739781738583\n"
     ]
    }
   ],
   "source": [
    "# Calculate the log loss\n",
    "print(\"Log Loss on the test data: \" + str(crf_log_loss(y_test, y_pred_test_marginals)))"
   ]
  },
  {
   "cell_type": "code",
   "execution_count": 12,
   "metadata": {},
   "outputs": [
    {
     "data": {
      "image/png": "[encoded data removed]",
      "text/plain": [
       "<matplotlib.figure.Figure at 0x7f88ef1f3a20>"
      ]
     },
     "metadata": {
      "needs_background": "light"
     },
     "output_type": "display_data"
    }
   ],
   "source": [
    "# Print ROC Curve\n",
    "crf_roc_curve(y_test, y_pred_test_marginals)"
   ]
  },
  {
   "cell_type": "markdown",
   "metadata": {},
   "source": [
    "## CRF Specific"
   ]
  },
  {
   "cell_type": "code",
   "execution_count": null,
   "metadata": {
    "scrolled": false
   },
   "outputs": [],
   "source": [
    "# Print list of top weighted features\n",
    "eli5.show_weights(model, top=25)"
   ]
  },
  {
   "cell_type": "code",
   "execution_count": null,
   "metadata": {},
   "outputs": [],
   "source": [
    "# Show trasition weights\n",
    "visualize_transitions(crf)"
   ]
  },
  {
   "cell_type": "code",
   "execution_count": 10,
   "metadata": {},
   "outputs": [],
   "source": [
    "a = {\"A\":1, \"B\":2}"
   ]
  },
  {
   "cell_type": "code",
   "execution_count": 26,
   "metadata": {},
   "outputs": [],
   "source": [
    "b = set(a.keys())"
   ]
  },
  {
   "cell_type": "code",
   "execution_count": 28,
   "metadata": {},
   "outputs": [],
   "source": [
    "b.discard(\"A\")"
   ]
  },
  {
   "cell_type": "code",
   "execution_count": 29,
   "metadata": {},
   "outputs": [
    {
     "data": {
      "text/plain": [
       "{'B'}"
      ]
     },
     "execution_count": 29,
     "metadata": {},
     "output_type": "execute_result"
    }
   ],
   "source": [
    "b"
   ]
  },
  {
   "cell_type": "code",
   "execution_count": null,
   "metadata": {},
   "outputs": [],
   "source": []
  },
  {
   "cell_type": "code",
   "execution_count": null,
   "metadata": {},
   "outputs": [],
   "source": []
  }
 ],
 "metadata": {
  "file_extension": ".py",
  "kernelspec": {
   "display_name": "Python 3",
   "language": "python",
   "name": "python3"
  },
  "language_info": {
   "codemirror_mode": {
    "name": "ipython",
    "version": 3
   },
   "file_extension": ".py",
   "mimetype": "text/x-python",
   "name": "python",
   "nbconvert_exporter": "python",
   "pygments_lexer": "ipython3",
   "version": "3.6.8"
  },
  "mimetype": "text/x-python",
  "name": "python",
  "npconvert_exporter": "python",
  "pygments_lexer": "ipython3",
  "version": 3
 },
 "nbformat": 4,
 "nbformat_minor": 2
}
