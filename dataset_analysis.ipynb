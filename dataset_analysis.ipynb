{
 "cells": [
  {
   "cell_type": "code",
   "execution_count": 3,
   "metadata": {},
   "outputs": [],
   "source": [
    "import ast\n",
    "from collections import Counter\n",
    "import pandas as pd\n",
    "import matplotlib.pyplot as plt\n",
    "import numpy as np\n",
    "TEST_FILENAME = \"data/preprocessedData/dev_IO_with_plausible_answers.csv\"\n",
    "df_askable_paragraph_test = pd.read_csv(TEST_FILENAME)\n",
    "TEST_FILENAME = \"data/preprocessedData/train_IO_with_plausible_answers.csv\"\n",
    "df_askable_paragraph_train = pd.read_csv(TEST_FILENAME)"
   ]
  },
  {
   "cell_type": "code",
   "execution_count": 4,
   "metadata": {},
   "outputs": [
    {
     "name": "stdout",
     "output_type": "stream",
     "text": [
      "Training Data\n",
      "Number of Text: 442\n",
      "Number of Paragraphs: 19035\n",
      "Number of I / O Token: Counter({'O': 2244574, 'I': 351862})\n",
      "Avg. Text length: 136.40325715786707\n"
     ]
    },
    {
     "data": {
      "text/plain": [
       "(array([4.6790e+03, 1.0888e+04, 2.7710e+03, 5.4600e+02, 1.1300e+02,\n",
       "        2.7000e+01, 7.0000e+00, 2.0000e+00, 1.0000e+00, 1.0000e+00]),\n",
       " array([ 22. , 100.7, 179.4, 258.1, 336.8, 415.5, 494.2, 572.9, 651.6,\n",
       "        730.3, 809. ]),\n",
       " <a list of 10 Patch objects>)"
      ]
     },
     "execution_count": 4,
     "metadata": {},
     "output_type": "execute_result"
    },
    {
     "data": {
      "image/png": "[encoded data removed]",
      "text/plain": [
       "<matplotlib.figure.Figure at 0x7ffa564cb780>"
      ]
     },
     "metadata": {
      "needs_background": "light"
     },
     "output_type": "display_data"
    }
   ],
   "source": [
    "print(\"Training Data\")\n",
    "print(\"Number of Text:\", len(df_askable_paragraph_train[\"text_title\"].unique()))\n",
    "print(\"Number of Paragraphs:\", len(df_askable_paragraph_train[\"text_title\"]))\n",
    "cnt = Counter()\n",
    "for seq in df_askable_paragraph_train[\"askable_tokens\"]:\n",
    "    cnt += Counter(ast.literal_eval(seq))\n",
    "print(\"Number of I / O Token:\", cnt)\n",
    "print(\"Avg. Text length:\",np.mean([len(ast.literal_eval(seq)) for seq in df_askable_paragraph_train[\"askable_tokens\"]]))\n",
    "plt.hist([len(ast.literal_eval(seq)) for seq in df_askable_paragraph_train[\"askable_tokens\"]])"
   ]
  },
  {
   "cell_type": "code",
   "execution_count": 5,
   "metadata": {},
   "outputs": [
    {
     "name": "stdout",
     "output_type": "stream",
     "text": [
      "Test Data\n",
      "Number of Text: 35\n",
      "Number of Paragraphs: 1204\n",
      "Number of I / O Token: Counter({'O': 141594, 'I': 35214})\n",
      "Avg. Text length: 146.85049833887044\n"
     ]
    },
    {
     "data": {
      "text/plain": [
       "(array([165., 720., 234.,  48.,  20.,   8.,   3.,   2.,   3.,   1.]),\n",
       " array([ 30. ,  97.6, 165.2, 232.8, 300.4, 368. , 435.6, 503.2, 570.8,\n",
       "        638.4, 706. ]),\n",
       " <a list of 10 Patch objects>)"
      ]
     },
     "execution_count": 5,
     "metadata": {},
     "output_type": "execute_result"
    },
    {
     "data": {
      "image/png": "[encoded data removed]",
      "text/plain": [
       "<matplotlib.figure.Figure at 0x7ffa55c757f0>"
      ]
     },
     "metadata": {
      "needs_background": "light"
     },
     "output_type": "display_data"
    }
   ],
   "source": [
    "print(\"Test Data\")\n",
    "print(\"Number of Text:\", len(df_askable_paragraph_test[\"text_title\"].unique()))\n",
    "print(\"Number of Paragraphs:\", len(df_askable_paragraph_test[\"text_title\"]))\n",
    "cnt = Counter()\n",
    "for seq in df_askable_paragraph_test[\"askable_tokens\"]:\n",
    "    cnt += Counter(ast.literal_eval(seq))\n",
    "print(\"Number of I / O Token:\", cnt)\n",
    "print(\"Avg. Text length:\",np.mean([len(ast.literal_eval(seq)) for seq in df_askable_paragraph_test[\"askable_tokens\"]]))\n",
    "plt.hist([len(ast.literal_eval(seq)) for seq in df_askable_paragraph_test[\"askable_tokens\"]])"
   ]
  }
 ],
 "metadata": {
  "kernelspec": {
   "display_name": "Python 3",
   "language": "python",
   "name": "python3"
  },
  "language_info": {
   "codemirror_mode": {
    "name": "ipython",
    "version": 3
   },
   "file_extension": ".py",
   "mimetype": "text/x-python",
   "name": "python",
   "nbconvert_exporter": "python",
   "pygments_lexer": "ipython3",
   "version": "3.6.8"
  }
 },
 "nbformat": 4,
 "nbformat_minor": 2
}
